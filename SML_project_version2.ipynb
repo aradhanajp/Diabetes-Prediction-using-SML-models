{
  "nbformat": 4,
  "nbformat_minor": 0,
  "metadata": {
    "colab": {
      "provenance": []
    },
    "kernelspec": {
      "name": "python3",
      "display_name": "Python 3"
    },
    "language_info": {
      "name": "python"
    }
  },
  "cells": [
    {
      "cell_type": "code",
      "metadata": {
        "id": "C9OE5PNB-kfJ"
      },
      "source": [
        "import pandas as pd\n",
        "import numpy as np\n",
        "from time import time\n",
        "#from sklearn.pipeline import FeatureUnion\n",
        "import matplotlib.pyplot as plt\n",
        "from pandas.plotting import scatter_matrix\n",
        "from sklearn import metrics\n",
        "from sklearn.metrics import confusion_matrix\n",
        "#from sklearn.base import TransformerMixin\n",
        "from sklearn.pipeline import Pipeline\n",
        "from sklearn.model_selection import RepeatedKFold\n",
        "from sklearn.model_selection import train_test_split, GridSearchCV\n",
        "from sklearn.linear_model import LinearRegression, Lasso, Ridge, SGDRegressor, ElasticNet\n",
        "from sklearn.linear_model import LogisticRegression\n",
        "from sklearn.svm import LinearSVC\n",
        "from sklearn.tree import DecisionTreeClassifier\n",
        "from sklearn.ensemble import RandomForestClassifier, BaggingClassifier, GradientBoostingClassifier,AdaBoostClassifier\n",
        "from sklearn.naive_bayes import GaussianNB\n",
        "from sklearn.neighbors import KNeighborsClassifier\n",
        "from sklearn.neighbors import KNeighborsRegressor\n",
        "from sklearn.preprocessing import LabelEncoder\n",
        "from sklearn.preprocessing import StandardScaler\n",
        "from sklearn import tree\n",
        "import seaborn as sns\n",
        "import imblearn\n",
        "from imblearn.over_sampling import SMOTE\n",
        "from itertools import combinations\n",
        "from tqdm import tnrange, tqdm_notebook\n",
        "from sklearn.linear_model import RidgeCV, LassoCV\n",
        "from sklearn.linear_model import Lasso, Ridge\n",
        "from numpy import mean\n",
        "from numpy import std\n",
        "from numpy import absolute\n",
        "from pandas import read_csv\n",
        "from math import log\n",
        "from xgboost import XGBClassifier\n",
        "from sklearn.model_selection import cross_val_score\n",
        "%matplotlib inline\n",
        "from sklearn.metrics import mean_squared_error, r2_score"
      ],
      "execution_count": null,
      "outputs": []
    },
    {
      "cell_type": "code",
      "metadata": {
        "colab": {
          "base_uri": "https://localhost:8080/",
          "height": 204
        },
        "id": "uH044XG9-ngp",
        "outputId": "165dd37d-a8f8-4a60-8c9d-a47a89882d51"
      },
      "source": [
        "diabetes = pd.read_csv(\"/diabetes.csv\",header = 0)\n",
        "diabetes.head()"
      ],
      "execution_count": null,
      "outputs": [
        {
          "output_type": "execute_result",
          "data": {
            "text/html": [
              "<div>\n",
              "<style scoped>\n",
              "    .dataframe tbody tr th:only-of-type {\n",
              "        vertical-align: middle;\n",
              "    }\n",
              "\n",
              "    .dataframe tbody tr th {\n",
              "        vertical-align: top;\n",
              "    }\n",
              "\n",
              "    .dataframe thead th {\n",
              "        text-align: right;\n",
              "    }\n",
              "</style>\n",
              "<table border=\"1\" class=\"dataframe\">\n",
              "  <thead>\n",
              "    <tr style=\"text-align: right;\">\n",
              "      <th></th>\n",
              "      <th>Pregnancies</th>\n",
              "      <th>Glucose</th>\n",
              "      <th>BloodPressure</th>\n",
              "      <th>SkinThickness</th>\n",
              "      <th>Insulin</th>\n",
              "      <th>BMI</th>\n",
              "      <th>DiabetesPedigreeFunction</th>\n",
              "      <th>Age</th>\n",
              "      <th>Outcome</th>\n",
              "    </tr>\n",
              "  </thead>\n",
              "  <tbody>\n",
              "    <tr>\n",
              "      <th>0</th>\n",
              "      <td>6</td>\n",
              "      <td>148</td>\n",
              "      <td>72</td>\n",
              "      <td>35</td>\n",
              "      <td>0</td>\n",
              "      <td>33.6</td>\n",
              "      <td>0.627</td>\n",
              "      <td>50</td>\n",
              "      <td>1</td>\n",
              "    </tr>\n",
              "    <tr>\n",
              "      <th>1</th>\n",
              "      <td>1</td>\n",
              "      <td>85</td>\n",
              "      <td>66</td>\n",
              "      <td>29</td>\n",
              "      <td>0</td>\n",
              "      <td>26.6</td>\n",
              "      <td>0.351</td>\n",
              "      <td>31</td>\n",
              "      <td>0</td>\n",
              "    </tr>\n",
              "    <tr>\n",
              "      <th>2</th>\n",
              "      <td>8</td>\n",
              "      <td>183</td>\n",
              "      <td>64</td>\n",
              "      <td>0</td>\n",
              "      <td>0</td>\n",
              "      <td>23.3</td>\n",
              "      <td>0.672</td>\n",
              "      <td>32</td>\n",
              "      <td>1</td>\n",
              "    </tr>\n",
              "    <tr>\n",
              "      <th>3</th>\n",
              "      <td>1</td>\n",
              "      <td>89</td>\n",
              "      <td>66</td>\n",
              "      <td>23</td>\n",
              "      <td>94</td>\n",
              "      <td>28.1</td>\n",
              "      <td>0.167</td>\n",
              "      <td>21</td>\n",
              "      <td>0</td>\n",
              "    </tr>\n",
              "    <tr>\n",
              "      <th>4</th>\n",
              "      <td>0</td>\n",
              "      <td>137</td>\n",
              "      <td>40</td>\n",
              "      <td>35</td>\n",
              "      <td>168</td>\n",
              "      <td>43.1</td>\n",
              "      <td>2.288</td>\n",
              "      <td>33</td>\n",
              "      <td>1</td>\n",
              "    </tr>\n",
              "  </tbody>\n",
              "</table>\n",
              "</div>"
            ],
            "text/plain": [
              "   Pregnancies  Glucose  BloodPressure  ...  DiabetesPedigreeFunction  Age  Outcome\n",
              "0            6      148             72  ...                     0.627   50        1\n",
              "1            1       85             66  ...                     0.351   31        0\n",
              "2            8      183             64  ...                     0.672   32        1\n",
              "3            1       89             66  ...                     0.167   21        0\n",
              "4            0      137             40  ...                     2.288   33        1\n",
              "\n",
              "[5 rows x 9 columns]"
            ]
          },
          "metadata": {},
          "execution_count": 2
        }
      ]
    },
    {
      "cell_type": "code",
      "metadata": {
        "colab": {
          "base_uri": "https://localhost:8080/"
        },
        "id": "QzB3_dpZ_IHt",
        "outputId": "18661d1f-ad78-43dc-b8ef-4f66b088a6b6"
      },
      "source": [
        "diabetes.info()"
      ],
      "execution_count": null,
      "outputs": [
        {
          "output_type": "stream",
          "name": "stdout",
          "text": [
            "<class 'pandas.core.frame.DataFrame'>\n",
            "RangeIndex: 768 entries, 0 to 767\n",
            "Data columns (total 9 columns):\n",
            " #   Column                    Non-Null Count  Dtype  \n",
            "---  ------                    --------------  -----  \n",
            " 0   Pregnancies               768 non-null    int64  \n",
            " 1   Glucose                   768 non-null    int64  \n",
            " 2   BloodPressure             768 non-null    int64  \n",
            " 3   SkinThickness             768 non-null    int64  \n",
            " 4   Insulin                   768 non-null    int64  \n",
            " 5   BMI                       768 non-null    float64\n",
            " 6   DiabetesPedigreeFunction  768 non-null    float64\n",
            " 7   Age                       768 non-null    int64  \n",
            " 8   Outcome                   768 non-null    int64  \n",
            "dtypes: float64(2), int64(7)\n",
            "memory usage: 54.1 KB\n"
          ]
        }
      ]
    },
    {
      "cell_type": "code",
      "metadata": {
        "colab": {
          "base_uri": "https://localhost:8080/",
          "height": 317
        },
        "id": "HaF3XLOF_QC8",
        "outputId": "a44eccc0-6603-466d-ff11-548d6cb9a231"
      },
      "source": [
        "diabetes.describe()"
      ],
      "execution_count": null,
      "outputs": [
        {
          "output_type": "execute_result",
          "data": {
            "text/html": [
              "<div>\n",
              "<style scoped>\n",
              "    .dataframe tbody tr th:only-of-type {\n",
              "        vertical-align: middle;\n",
              "    }\n",
              "\n",
              "    .dataframe tbody tr th {\n",
              "        vertical-align: top;\n",
              "    }\n",
              "\n",
              "    .dataframe thead th {\n",
              "        text-align: right;\n",
              "    }\n",
              "</style>\n",
              "<table border=\"1\" class=\"dataframe\">\n",
              "  <thead>\n",
              "    <tr style=\"text-align: right;\">\n",
              "      <th></th>\n",
              "      <th>Pregnancies</th>\n",
              "      <th>Glucose</th>\n",
              "      <th>BloodPressure</th>\n",
              "      <th>SkinThickness</th>\n",
              "      <th>Insulin</th>\n",
              "      <th>BMI</th>\n",
              "      <th>DiabetesPedigreeFunction</th>\n",
              "      <th>Age</th>\n",
              "      <th>Outcome</th>\n",
              "    </tr>\n",
              "  </thead>\n",
              "  <tbody>\n",
              "    <tr>\n",
              "      <th>count</th>\n",
              "      <td>768.000000</td>\n",
              "      <td>768.000000</td>\n",
              "      <td>768.000000</td>\n",
              "      <td>768.000000</td>\n",
              "      <td>768.000000</td>\n",
              "      <td>768.000000</td>\n",
              "      <td>768.000000</td>\n",
              "      <td>768.000000</td>\n",
              "      <td>768.000000</td>\n",
              "    </tr>\n",
              "    <tr>\n",
              "      <th>mean</th>\n",
              "      <td>3.845052</td>\n",
              "      <td>120.894531</td>\n",
              "      <td>69.105469</td>\n",
              "      <td>20.536458</td>\n",
              "      <td>79.799479</td>\n",
              "      <td>31.992578</td>\n",
              "      <td>0.471876</td>\n",
              "      <td>33.240885</td>\n",
              "      <td>0.348958</td>\n",
              "    </tr>\n",
              "    <tr>\n",
              "      <th>std</th>\n",
              "      <td>3.369578</td>\n",
              "      <td>31.972618</td>\n",
              "      <td>19.355807</td>\n",
              "      <td>15.952218</td>\n",
              "      <td>115.244002</td>\n",
              "      <td>7.884160</td>\n",
              "      <td>0.331329</td>\n",
              "      <td>11.760232</td>\n",
              "      <td>0.476951</td>\n",
              "    </tr>\n",
              "    <tr>\n",
              "      <th>min</th>\n",
              "      <td>0.000000</td>\n",
              "      <td>0.000000</td>\n",
              "      <td>0.000000</td>\n",
              "      <td>0.000000</td>\n",
              "      <td>0.000000</td>\n",
              "      <td>0.000000</td>\n",
              "      <td>0.078000</td>\n",
              "      <td>21.000000</td>\n",
              "      <td>0.000000</td>\n",
              "    </tr>\n",
              "    <tr>\n",
              "      <th>25%</th>\n",
              "      <td>1.000000</td>\n",
              "      <td>99.000000</td>\n",
              "      <td>62.000000</td>\n",
              "      <td>0.000000</td>\n",
              "      <td>0.000000</td>\n",
              "      <td>27.300000</td>\n",
              "      <td>0.243750</td>\n",
              "      <td>24.000000</td>\n",
              "      <td>0.000000</td>\n",
              "    </tr>\n",
              "    <tr>\n",
              "      <th>50%</th>\n",
              "      <td>3.000000</td>\n",
              "      <td>117.000000</td>\n",
              "      <td>72.000000</td>\n",
              "      <td>23.000000</td>\n",
              "      <td>30.500000</td>\n",
              "      <td>32.000000</td>\n",
              "      <td>0.372500</td>\n",
              "      <td>29.000000</td>\n",
              "      <td>0.000000</td>\n",
              "    </tr>\n",
              "    <tr>\n",
              "      <th>75%</th>\n",
              "      <td>6.000000</td>\n",
              "      <td>140.250000</td>\n",
              "      <td>80.000000</td>\n",
              "      <td>32.000000</td>\n",
              "      <td>127.250000</td>\n",
              "      <td>36.600000</td>\n",
              "      <td>0.626250</td>\n",
              "      <td>41.000000</td>\n",
              "      <td>1.000000</td>\n",
              "    </tr>\n",
              "    <tr>\n",
              "      <th>max</th>\n",
              "      <td>17.000000</td>\n",
              "      <td>199.000000</td>\n",
              "      <td>122.000000</td>\n",
              "      <td>99.000000</td>\n",
              "      <td>846.000000</td>\n",
              "      <td>67.100000</td>\n",
              "      <td>2.420000</td>\n",
              "      <td>81.000000</td>\n",
              "      <td>1.000000</td>\n",
              "    </tr>\n",
              "  </tbody>\n",
              "</table>\n",
              "</div>"
            ],
            "text/plain": [
              "       Pregnancies     Glucose  ...         Age     Outcome\n",
              "count   768.000000  768.000000  ...  768.000000  768.000000\n",
              "mean      3.845052  120.894531  ...   33.240885    0.348958\n",
              "std       3.369578   31.972618  ...   11.760232    0.476951\n",
              "min       0.000000    0.000000  ...   21.000000    0.000000\n",
              "25%       1.000000   99.000000  ...   24.000000    0.000000\n",
              "50%       3.000000  117.000000  ...   29.000000    0.000000\n",
              "75%       6.000000  140.250000  ...   41.000000    1.000000\n",
              "max      17.000000  199.000000  ...   81.000000    1.000000\n",
              "\n",
              "[8 rows x 9 columns]"
            ]
          },
          "metadata": {},
          "execution_count": 4
        }
      ]
    },
    {
      "cell_type": "code",
      "metadata": {
        "colab": {
          "base_uri": "https://localhost:8080/"
        },
        "id": "dMdXbBmH_n15",
        "outputId": "ef9b2ac3-ae44-4284-8b1c-32997ec2ee2d"
      },
      "source": [
        "diabetes.Outcome.value_counts()"
      ],
      "execution_count": null,
      "outputs": [
        {
          "output_type": "execute_result",
          "data": {
            "text/plain": [
              "0    500\n",
              "1    268\n",
              "Name: Outcome, dtype: int64"
            ]
          },
          "metadata": {},
          "execution_count": 5
        }
      ]
    },
    {
      "cell_type": "code",
      "metadata": {
        "colab": {
          "base_uri": "https://localhost:8080/"
        },
        "id": "EEAKrvW3_9Qq",
        "outputId": "455ce9d9-8cf1-43f4-a313-cbbfce574f63"
      },
      "source": [
        "(diabetes == 0).sum(axis=0)"
      ],
      "execution_count": null,
      "outputs": [
        {
          "output_type": "execute_result",
          "data": {
            "text/plain": [
              "Pregnancies                 111\n",
              "Glucose                       5\n",
              "BloodPressure                35\n",
              "SkinThickness               227\n",
              "Insulin                     374\n",
              "BMI                          11\n",
              "DiabetesPedigreeFunction      0\n",
              "Age                           0\n",
              "Outcome                     500\n",
              "dtype: int64"
            ]
          },
          "metadata": {},
          "execution_count": 6
        }
      ]
    },
    {
      "cell_type": "code",
      "metadata": {
        "colab": {
          "base_uri": "https://localhost:8080/",
          "height": 298
        },
        "id": "5W1OL9gCGdqp",
        "outputId": "4bf86cdf-61af-4700-ebf5-8fb46041e6fd"
      },
      "source": [
        "diabetes = diabetes.loc[diabetes.BMI != 0]\n",
        "\n",
        "diabetes[\"BMI\"].plot(kind='hist', bins=12, title='RestingBP Histogram')"
      ],
      "execution_count": null,
      "outputs": [
        {
          "output_type": "execute_result",
          "data": {
            "text/plain": [
              "<matplotlib.axes._subplots.AxesSubplot at 0x7f7099510590>"
            ]
          },
          "metadata": {},
          "execution_count": 7
        },
        {
          "output_type": "display_data",
          "data": {
            "image/png": "[encoded data removed]",
            "text/plain": [
              "<Figure size 432x288 with 1 Axes>"
            ]
          },
          "metadata": {
            "needs_background": "light"
          }
        }
      ]
    },
    {
      "cell_type": "code",
      "metadata": {
        "colab": {
          "base_uri": "https://localhost:8080/",
          "height": 298
        },
        "id": "Rhgw-8gOGsGS",
        "outputId": "a8c2f3ad-edb1-4001-c919-2f5a97f71c98"
      },
      "source": [
        "diabetes = diabetes.loc[diabetes.BloodPressure != 0]\n",
        "\n",
        "diabetes[\"BloodPressure\"].plot(kind='hist', bins=12, title='RestingBP Histogram')"
      ],
      "execution_count": null,
      "outputs": [
        {
          "output_type": "execute_result",
          "data": {
            "text/plain": [
              "<matplotlib.axes._subplots.AxesSubplot at 0x7f7099402bd0>"
            ]
          },
          "metadata": {},
          "execution_count": 8
        },
        {
          "output_type": "display_data",
          "data": {
            "image/png": "[encoded data removed]",
            "text/plain": [
              "<Figure size 432x288 with 1 Axes>"
            ]
          },
          "metadata": {
            "needs_background": "light"
          }
        }
      ]
    },
    {
      "cell_type": "code",
      "metadata": {
        "id": "p4rl9FSX0GTi"
      },
      "source": [
        "diabetes.SkinThickness.replace(0, diabetes.SkinThickness.median(), inplace=True)\n",
        "diabetes.Insulin.replace(0, diabetes.Insulin.median(), inplace=True)\n",
        "diabetes.Glucose.replace(0, diabetes.Glucose.median(), inplace=True)\n",
        "diabetes.BloodPressure.replace(0, diabetes.BloodPressure.median(), inplace=True)\n",
        "diabetes.BMI.replace(0, diabetes.BMI.median(), inplace=True)"
      ],
      "execution_count": null,
      "outputs": []
    },
    {
      "cell_type": "code",
      "metadata": {
        "id": "oeahGiexHKTa"
      },
      "source": [
        "num_col = ['Pregnancies', 'Glucose', 'BloodPressure', 'SkinThickness', 'Insulin', \n",
        "           'DiabetesPedigreeFunction', 'BMI', 'Age']"
      ],
      "execution_count": null,
      "outputs": []
    },
    {
      "cell_type": "code",
      "metadata": {
        "colab": {
          "base_uri": "https://localhost:8080/",
          "height": 1000
        },
        "id": "Yh2acrjSHLJm",
        "outputId": "53473b06-2b2e-487e-8811-d8eeaa95e8f9"
      },
      "source": [
        "for col in diabetes[num_col]:\n",
        "    plt.figure()\n",
        "    sns.distplot(diabetes[col])\n",
        "    plt.show()"
      ],
      "execution_count": null,
      "outputs": [
        {
          "output_type": "stream",
          "name": "stderr",
          "text": [
            "/usr/local/lib/python3.7/dist-packages/seaborn/distributions.py:2619: FutureWarning: `distplot` is a deprecated function and will be removed in a future version. Please adapt your code to use either `displot` (a figure-level function with similar flexibility) or `histplot` (an axes-level function for histograms).\n",
            "  warnings.warn(msg, FutureWarning)\n"
          ]
        },
        {
          "output_type": "display_data",
          "data": {
            "image/png": "[encoded data removed]",
            "text/plain": [
              "<Figure size 432x288 with 1 Axes>"
            ]
          },
          "metadata": {
            "needs_background": "light"
          }
        },
        {
          "output_type": "stream",
          "name": "stderr",
          "text": [
            "/usr/local/lib/python3.7/dist-packages/seaborn/distributions.py:2619: FutureWarning: `distplot` is a deprecated function and will be removed in a future version. Please adapt your code to use either `displot` (a figure-level function with similar flexibility) or `histplot` (an axes-level function for histograms).\n",
            "  warnings.warn(msg, FutureWarning)\n"
          ]
        },
        {
          "output_type": "display_data",
          "data": {
            "image/png": "[encoded data removed]",
            "text/plain": [
              "<Figure size 432x288 with 1 Axes>"
            ]
          },
          "metadata": {
            "needs_background": "light"
          }
        },
        {
          "output_type": "stream",
          "name": "stderr",
          "text": [
            "/usr/local/lib/python3.7/dist-packages/seaborn/distributions.py:2619: FutureWarning: `distplot` is a deprecated function and will be removed in a future version. Please adapt your code to use either `displot` (a figure-level function with similar flexibility) or `histplot` (an axes-level function for histograms).\n",
            "  warnings.warn(msg, FutureWarning)\n"
          ]
        },
        {
          "output_type": "display_data",
          "data": {
            "image/png": "[encoded data removed]",
            "text/plain": [
              "<Figure size 432x288 with 1 Axes>"
            ]
          },
          "metadata": {
            "needs_background": "light"
          }
        },
        {
          "output_type": "stream",
          "name": "stderr",
          "text": [
            "/usr/local/lib/python3.7/dist-packages/seaborn/distributions.py:2619: FutureWarning: `distplot` is a deprecated function and will be removed in a future version. Please adapt your code to use either `displot` (a figure-level function with similar flexibility) or `histplot` (an axes-level function for histograms).\n",
            "  warnings.warn(msg, FutureWarning)\n"
          ]
        },
        {
          "output_type": "display_data",
          "data": {
            "image/png": "[encoded data removed]",
            "text/plain": [
              "<Figure size 432x288 with 1 Axes>"
            ]
          },
          "metadata": {
            "needs_background": "light"
          }
        },
        {
          "output_type": "stream",
          "name": "stderr",
          "text": [
            "/usr/local/lib/python3.7/dist-packages/seaborn/distributions.py:2619: FutureWarning: `distplot` is a deprecated function and will be removed in a future version. Please adapt your code to use either `displot` (a figure-level function with similar flexibility) or `histplot` (an axes-level function for histograms).\n",
            "  warnings.warn(msg, FutureWarning)\n"
          ]
        },
        {
          "output_type": "display_data",
          "data": {
            "image/png": "[encoded data removed]",
            "text/plain": [
              "<Figure size 432x288 with 1 Axes>"
            ]
          },
          "metadata": {
            "needs_background": "light"
          }
        },
        {
          "output_type": "stream",
          "name": "stderr",
          "text": [
            "/usr/local/lib/python3.7/dist-packages/seaborn/distributions.py:2619: FutureWarning: `distplot` is a deprecated function and will be removed in a future version. Please adapt your code to use either `displot` (a figure-level function with similar flexibility) or `histplot` (an axes-level function for histograms).\n",
            "  warnings.warn(msg, FutureWarning)\n"
          ]
        },
        {
          "output_type": "display_data",
          "data": {
            "image/png": "[encoded data removed]",
            "text/plain": [
              "<Figure size 432x288 with 1 Axes>"
            ]
          },
          "metadata": {
            "needs_background": "light"
          }
        },
        {
          "output_type": "stream",
          "name": "stderr",
          "text": [
            "/usr/local/lib/python3.7/dist-packages/seaborn/distributions.py:2619: FutureWarning: `distplot` is a deprecated function and will be removed in a future version. Please adapt your code to use either `displot` (a figure-level function with similar flexibility) or `histplot` (an axes-level function for histograms).\n",
            "  warnings.warn(msg, FutureWarning)\n"
          ]
        },
        {
          "output_type": "display_data",
          "data": {
            "image/png": "[encoded data removed]",
            "text/plain": [
              "<Figure size 432x288 with 1 Axes>"
            ]
          },
          "metadata": {
            "needs_background": "light"
          }
        },
        {
          "output_type": "stream",
          "name": "stderr",
          "text": [
            "/usr/local/lib/python3.7/dist-packages/seaborn/distributions.py:2619: FutureWarning: `distplot` is a deprecated function and will be removed in a future version. Please adapt your code to use either `displot` (a figure-level function with similar flexibility) or `histplot` (an axes-level function for histograms).\n",
            "  warnings.warn(msg, FutureWarning)\n"
          ]
        },
        {
          "output_type": "display_data",
          "data": {
            "image/png": "[encoded data removed]",
            "text/plain": [
              "<Figure size 432x288 with 1 Axes>"
            ]
          },
          "metadata": {
            "needs_background": "light"
          }
        }
      ]
    },
    {
      "cell_type": "code",
      "metadata": {
        "colab": {
          "base_uri": "https://localhost:8080/",
          "height": 1000
        },
        "id": "0EuuLK4FSqZV",
        "outputId": "0b30b5ea-c4d3-43e0-9784-340ee5eb54c4"
      },
      "source": [
        "for col in diabetes[num_col]:\n",
        "    d = pd.DataFrame(diabetes.groupby([col,\"Outcome\"]).size())\n",
        "    d = d.rename(columns = {0:\"Count\"})\n",
        "    d.reset_index(inplace= True)\n",
        "\n",
        "    plt.figure()\n",
        "    ax = sns.boxplot(x='Outcome',y=col,data=d, palette='rainbow').set(title =f\"{col} Distribution with Response Variable\")"
      ],
      "execution_count": null,
      "outputs": [
        {
          "output_type": "display_data",
          "data": {
            "image/png": "[encoded data removed]",
            "text/plain": [
              "<Figure size 432x288 with 1 Axes>"
            ]
          },
          "metadata": {
            "needs_background": "light"
          }
        },
        {
          "output_type": "display_data",
          "data": {
            "image/png": "[encoded data removed]",
            "text/plain": [
              "<Figure size 432x288 with 1 Axes>"
            ]
          },
          "metadata": {
            "needs_background": "light"
          }
        },
        {
          "output_type": "display_data",
          "data": {
            "image/png": "[encoded data removed]",
            "text/plain": [
              "<Figure size 432x288 with 1 Axes>"
            ]
          },
          "metadata": {
            "needs_background": "light"
          }
        },
        {
          "output_type": "display_data",
          "data": {
            "image/png": "[encoded data removed]",
            "text/plain": [
              "<Figure size 432x288 with 1 Axes>"
            ]
          },
          "metadata": {
            "needs_background": "light"
          }
        },
        {
          "output_type": "display_data",
          "data": {
            "image/png": "[encoded data removed]",
            "text/plain": [
              "<Figure size 432x288 with 1 Axes>"
            ]
          },
          "metadata": {
            "needs_background": "light"
          }
        },
        {
          "output_type": "display_data",
          "data": {
            "image/png": "[encoded data removed]",
            "text/plain": [
              "<Figure size 432x288 with 1 Axes>"
            ]
          },
          "metadata": {
            "needs_background": "light"
          }
        },
        {
          "output_type": "display_data",
          "data": {
            "image/png": "[encoded data removed]",
            "text/plain": [
              "<Figure size 432x288 with 1 Axes>"
            ]
          },
          "metadata": {
            "needs_background": "light"
          }
        },
        {
          "output_type": "display_data",
          "data": {
            "image/png": "[encoded data removed]",
            "text/plain": [
              "<Figure size 432x288 with 1 Axes>"
            ]
          },
          "metadata": {
            "needs_background": "light"
          }
        }
      ]
    },
    {
      "cell_type": "code",
      "metadata": {
        "id": "nmgoii4tqDE9"
      },
      "source": [
        "oversample = SMOTE()\n",
        "Y=diabetes.Outcome\n",
        "X=diabetes.loc[:,diabetes.columns != 'Outcome']\n",
        "X_res, y_res = oversample.fit_resample(X,Y)"
      ],
      "execution_count": null,
      "outputs": []
    },
    {
      "cell_type": "code",
      "metadata": {
        "colab": {
          "base_uri": "https://localhost:8080/",
          "height": 419
        },
        "id": "cw_7IO2zqSjB",
        "outputId": "a63700de-b9da-4eaa-87c6-8ad988002d9a"
      },
      "source": [
        "diabetes=pd.concat([X_res,y_res],axis=1)\n",
        "diabetes"
      ],
      "execution_count": null,
      "outputs": [
        {
          "output_type": "execute_result",
          "data": {
            "text/html": [
              "<div>\n",
              "<style scoped>\n",
              "    .dataframe tbody tr th:only-of-type {\n",
              "        vertical-align: middle;\n",
              "    }\n",
              "\n",
              "    .dataframe tbody tr th {\n",
              "        vertical-align: top;\n",
              "    }\n",
              "\n",
              "    .dataframe thead th {\n",
              "        text-align: right;\n",
              "    }\n",
              "</style>\n",
              "<table border=\"1\" class=\"dataframe\">\n",
              "  <thead>\n",
              "    <tr style=\"text-align: right;\">\n",
              "      <th></th>\n",
              "      <th>Pregnancies</th>\n",
              "      <th>Glucose</th>\n",
              "      <th>BloodPressure</th>\n",
              "      <th>SkinThickness</th>\n",
              "      <th>Insulin</th>\n",
              "      <th>BMI</th>\n",
              "      <th>DiabetesPedigreeFunction</th>\n",
              "      <th>Age</th>\n",
              "      <th>Outcome</th>\n",
              "    </tr>\n",
              "  </thead>\n",
              "  <tbody>\n",
              "    <tr>\n",
              "      <th>0</th>\n",
              "      <td>6</td>\n",
              "      <td>148</td>\n",
              "      <td>72</td>\n",
              "      <td>35</td>\n",
              "      <td>46</td>\n",
              "      <td>33.600000</td>\n",
              "      <td>0.627000</td>\n",
              "      <td>50</td>\n",
              "      <td>1</td>\n",
              "    </tr>\n",
              "    <tr>\n",
              "      <th>1</th>\n",
              "      <td>1</td>\n",
              "      <td>85</td>\n",
              "      <td>66</td>\n",
              "      <td>29</td>\n",
              "      <td>46</td>\n",
              "      <td>26.600000</td>\n",
              "      <td>0.351000</td>\n",
              "      <td>31</td>\n",
              "      <td>0</td>\n",
              "    </tr>\n",
              "    <tr>\n",
              "      <th>2</th>\n",
              "      <td>8</td>\n",
              "      <td>183</td>\n",
              "      <td>64</td>\n",
              "      <td>24</td>\n",
              "      <td>46</td>\n",
              "      <td>23.300000</td>\n",
              "      <td>0.672000</td>\n",
              "      <td>32</td>\n",
              "      <td>1</td>\n",
              "    </tr>\n",
              "    <tr>\n",
              "      <th>3</th>\n",
              "      <td>1</td>\n",
              "      <td>89</td>\n",
              "      <td>66</td>\n",
              "      <td>23</td>\n",
              "      <td>94</td>\n",
              "      <td>28.100000</td>\n",
              "      <td>0.167000</td>\n",
              "      <td>21</td>\n",
              "      <td>0</td>\n",
              "    </tr>\n",
              "    <tr>\n",
              "      <th>4</th>\n",
              "      <td>0</td>\n",
              "      <td>137</td>\n",
              "      <td>40</td>\n",
              "      <td>35</td>\n",
              "      <td>168</td>\n",
              "      <td>43.100000</td>\n",
              "      <td>2.288000</td>\n",
              "      <td>33</td>\n",
              "      <td>1</td>\n",
              "    </tr>\n",
              "    <tr>\n",
              "      <th>...</th>\n",
              "      <td>...</td>\n",
              "      <td>...</td>\n",
              "      <td>...</td>\n",
              "      <td>...</td>\n",
              "      <td>...</td>\n",
              "      <td>...</td>\n",
              "      <td>...</td>\n",
              "      <td>...</td>\n",
              "      <td>...</td>\n",
              "    </tr>\n",
              "    <tr>\n",
              "      <th>951</th>\n",
              "      <td>6</td>\n",
              "      <td>131</td>\n",
              "      <td>70</td>\n",
              "      <td>24</td>\n",
              "      <td>46</td>\n",
              "      <td>29.322342</td>\n",
              "      <td>0.476123</td>\n",
              "      <td>52</td>\n",
              "      <td>1</td>\n",
              "    </tr>\n",
              "    <tr>\n",
              "      <th>952</th>\n",
              "      <td>14</td>\n",
              "      <td>166</td>\n",
              "      <td>72</td>\n",
              "      <td>41</td>\n",
              "      <td>117</td>\n",
              "      <td>38.963584</td>\n",
              "      <td>0.793857</td>\n",
              "      <td>44</td>\n",
              "      <td>1</td>\n",
              "    </tr>\n",
              "    <tr>\n",
              "      <th>953</th>\n",
              "      <td>1</td>\n",
              "      <td>133</td>\n",
              "      <td>64</td>\n",
              "      <td>27</td>\n",
              "      <td>120</td>\n",
              "      <td>32.375865</td>\n",
              "      <td>0.297203</td>\n",
              "      <td>26</td>\n",
              "      <td>1</td>\n",
              "    </tr>\n",
              "    <tr>\n",
              "      <th>954</th>\n",
              "      <td>7</td>\n",
              "      <td>136</td>\n",
              "      <td>73</td>\n",
              "      <td>47</td>\n",
              "      <td>127</td>\n",
              "      <td>38.228991</td>\n",
              "      <td>0.528433</td>\n",
              "      <td>41</td>\n",
              "      <td>1</td>\n",
              "    </tr>\n",
              "    <tr>\n",
              "      <th>955</th>\n",
              "      <td>5</td>\n",
              "      <td>132</td>\n",
              "      <td>70</td>\n",
              "      <td>22</td>\n",
              "      <td>128</td>\n",
              "      <td>34.346255</td>\n",
              "      <td>0.639593</td>\n",
              "      <td>31</td>\n",
              "      <td>1</td>\n",
              "    </tr>\n",
              "  </tbody>\n",
              "</table>\n",
              "<p>956 rows × 9 columns</p>\n",
              "</div>"
            ],
            "text/plain": [
              "     Pregnancies  Glucose  ...  Age  Outcome\n",
              "0              6      148  ...   50        1\n",
              "1              1       85  ...   31        0\n",
              "2              8      183  ...   32        1\n",
              "3              1       89  ...   21        0\n",
              "4              0      137  ...   33        1\n",
              "..           ...      ...  ...  ...      ...\n",
              "951            6      131  ...   52        1\n",
              "952           14      166  ...   44        1\n",
              "953            1      133  ...   26        1\n",
              "954            7      136  ...   41        1\n",
              "955            5      132  ...   31        1\n",
              "\n",
              "[956 rows x 9 columns]"
            ]
          },
          "metadata": {},
          "execution_count": 14
        }
      ]
    },
    {
      "cell_type": "code",
      "metadata": {
        "id": "FWNvgTjGuDrO"
      },
      "source": [
        "X = diabetes.iloc[:, :-1].values\n",
        "y = diabetes.iloc[:, -1].values"
      ],
      "execution_count": null,
      "outputs": []
    },
    {
      "cell_type": "code",
      "metadata": {
        "id": "osj7gDqquSd-"
      },
      "source": [
        "X_train, X_test, y_train, y_test = train_test_split(X, y, test_size=0.2, random_state=10)"
      ],
      "execution_count": null,
      "outputs": []
    },
    {
      "cell_type": "code",
      "metadata": {
        "id": "pE4fRZLUuctQ"
      },
      "source": [
        "scaler = StandardScaler()\n",
        "X_train = scaler.fit_transform(X_train)\n",
        "X_test = scaler.transform(X_test)"
      ],
      "execution_count": null,
      "outputs": []
    },
    {
      "cell_type": "code",
      "metadata": {
        "id": "Kh7m5C-wueow"
      },
      "source": [
        "models = {'Logistic': LogisticRegression(random_state=0),\n",
        "         'DecisionTreeClassifier' : DecisionTreeClassifier(random_state=0),\n",
        "         'RandomForestClassifier' : RandomForestClassifier(random_state=0),\n",
        "         'KNeighborsClassifier': KNeighborsClassifier(),\n",
        "          'BaggingClassifier': BaggingClassifier(random_state=0),\n",
        "          'SVC': LinearSVC(random_state=0),\n",
        "          'NaiveBayes': GaussianNB(),\n",
        "          'AdaBoost': AdaBoostClassifier(random_state=0),\n",
        "          'XGBoost': XGBClassifier(random_state=0),\n",
        "          'GradientBoostingClassifier': GradientBoostingClassifier(random_state=0)}"
      ],
      "execution_count": null,
      "outputs": []
    },
    {
      "cell_type": "code",
      "metadata": {
        "id": "gzuifiKyv-9-"
      },
      "source": [
        "results = pd.DataFrame(columns=[\"ExpID\", \"Accuracy\",\"Precision\",\"Recall\",\"F1 score\", \"Sensitivity\", \"Specifity\",\"Train Time(s)\", \"Experiment description\"])\n",
        "\n",
        "def get_results(model, X, y, X_test, y_test, name='model_name', desc='experiment'):\n",
        "    start = time()\n",
        "    model.fit(X, y)\n",
        "    y_pred = model.predict(X_test)\n",
        "    acc = metrics.accuracy_score(y_test,y_pred)\n",
        "    mat = confusion_matrix(y_test, y_pred, labels=[0,1])\n",
        "    sensitivity = mat[0,0]/(mat[0,0] + mat[1,0])\n",
        "    specifity = mat[1,1]/(mat[1,1] + mat[0,1])\n",
        "    prec = metrics.precision_score(y_test, y_pred)\n",
        "    rec = metrics.recall_score(y_test, y_pred)\n",
        "    f1 = metrics.f1_score(y_test, y_pred)\n",
        "    train_time = np.round(time() - start, 4)\n",
        "    results.loc[results.shape[0]+1] = [name, acc, prec, rec, f1,sensitivity, specifity,train_time, desc]"
      ],
      "execution_count": null,
      "outputs": []
    },
    {
      "cell_type": "code",
      "metadata": {
        "colab": {
          "base_uri": "https://localhost:8080/",
          "height": 413
        },
        "id": "Yu27K-VFwFTU",
        "outputId": "d61a6dfa-b0d6-487a-bf2d-5ae517e4e8ae"
      },
      "source": [
        "for name, model in models.items():\n",
        "    get_results(model, X_train, y_train, X_test, y_test, 'Initial Search', 'Untuned ' + name)\n",
        "\n",
        "display(results)"
      ],
      "execution_count": null,
      "outputs": [
        {
          "output_type": "stream",
          "name": "stderr",
          "text": [
            "/usr/local/lib/python3.7/dist-packages/sklearn/svm/_base.py:1208: ConvergenceWarning: Liblinear failed to converge, increase the number of iterations.\n",
            "  ConvergenceWarning,\n"
          ]
        },
        {
          "output_type": "display_data",
          "data": {
            "text/html": [
              "<div>\n",
              "<style scoped>\n",
              "    .dataframe tbody tr th:only-of-type {\n",
              "        vertical-align: middle;\n",
              "    }\n",
              "\n",
              "    .dataframe tbody tr th {\n",
              "        vertical-align: top;\n",
              "    }\n",
              "\n",
              "    .dataframe thead th {\n",
              "        text-align: right;\n",
              "    }\n",
              "</style>\n",
              "<table border=\"1\" class=\"dataframe\">\n",
              "  <thead>\n",
              "    <tr style=\"text-align: right;\">\n",
              "      <th></th>\n",
              "      <th>ExpID</th>\n",
              "      <th>Accuracy</th>\n",
              "      <th>Precision</th>\n",
              "      <th>Recall</th>\n",
              "      <th>F1 score</th>\n",
              "      <th>Sensitivity</th>\n",
              "      <th>Specifity</th>\n",
              "      <th>Train Time(s)</th>\n",
              "      <th>Experiment description</th>\n",
              "    </tr>\n",
              "  </thead>\n",
              "  <tbody>\n",
              "    <tr>\n",
              "      <th>1</th>\n",
              "      <td>Initial Search</td>\n",
              "      <td>0.744792</td>\n",
              "      <td>0.720430</td>\n",
              "      <td>0.744444</td>\n",
              "      <td>0.732240</td>\n",
              "      <td>0.767677</td>\n",
              "      <td>0.720430</td>\n",
              "      <td>0.0139</td>\n",
              "      <td>Untuned Logistic</td>\n",
              "    </tr>\n",
              "    <tr>\n",
              "      <th>2</th>\n",
              "      <td>Initial Search</td>\n",
              "      <td>0.734375</td>\n",
              "      <td>0.685714</td>\n",
              "      <td>0.800000</td>\n",
              "      <td>0.738462</td>\n",
              "      <td>0.793103</td>\n",
              "      <td>0.685714</td>\n",
              "      <td>0.0073</td>\n",
              "      <td>Untuned DecisionTreeClassifier</td>\n",
              "    </tr>\n",
              "    <tr>\n",
              "      <th>3</th>\n",
              "      <td>Initial Search</td>\n",
              "      <td>0.833333</td>\n",
              "      <td>0.778846</td>\n",
              "      <td>0.900000</td>\n",
              "      <td>0.835052</td>\n",
              "      <td>0.897727</td>\n",
              "      <td>0.778846</td>\n",
              "      <td>0.2307</td>\n",
              "      <td>Untuned RandomForestClassifier</td>\n",
              "    </tr>\n",
              "    <tr>\n",
              "      <th>4</th>\n",
              "      <td>Initial Search</td>\n",
              "      <td>0.796875</td>\n",
              "      <td>0.729730</td>\n",
              "      <td>0.900000</td>\n",
              "      <td>0.805970</td>\n",
              "      <td>0.888889</td>\n",
              "      <td>0.729730</td>\n",
              "      <td>0.0259</td>\n",
              "      <td>Untuned KNeighborsClassifier</td>\n",
              "    </tr>\n",
              "    <tr>\n",
              "      <th>5</th>\n",
              "      <td>Initial Search</td>\n",
              "      <td>0.791667</td>\n",
              "      <td>0.760417</td>\n",
              "      <td>0.811111</td>\n",
              "      <td>0.784946</td>\n",
              "      <td>0.822917</td>\n",
              "      <td>0.760417</td>\n",
              "      <td>0.0460</td>\n",
              "      <td>Untuned BaggingClassifier</td>\n",
              "    </tr>\n",
              "    <tr>\n",
              "      <th>6</th>\n",
              "      <td>Initial Search</td>\n",
              "      <td>0.739583</td>\n",
              "      <td>0.717391</td>\n",
              "      <td>0.733333</td>\n",
              "      <td>0.725275</td>\n",
              "      <td>0.760000</td>\n",
              "      <td>0.717391</td>\n",
              "      <td>0.0418</td>\n",
              "      <td>Untuned SVC</td>\n",
              "    </tr>\n",
              "    <tr>\n",
              "      <th>7</th>\n",
              "      <td>Initial Search</td>\n",
              "      <td>0.718750</td>\n",
              "      <td>0.695652</td>\n",
              "      <td>0.711111</td>\n",
              "      <td>0.703297</td>\n",
              "      <td>0.740000</td>\n",
              "      <td>0.695652</td>\n",
              "      <td>0.0045</td>\n",
              "      <td>Untuned NaiveBayes</td>\n",
              "    </tr>\n",
              "    <tr>\n",
              "      <th>8</th>\n",
              "      <td>Initial Search</td>\n",
              "      <td>0.802083</td>\n",
              "      <td>0.760000</td>\n",
              "      <td>0.844444</td>\n",
              "      <td>0.800000</td>\n",
              "      <td>0.847826</td>\n",
              "      <td>0.760000</td>\n",
              "      <td>0.1256</td>\n",
              "      <td>Untuned AdaBoost</td>\n",
              "    </tr>\n",
              "    <tr>\n",
              "      <th>9</th>\n",
              "      <td>Initial Search</td>\n",
              "      <td>0.802083</td>\n",
              "      <td>0.750000</td>\n",
              "      <td>0.866667</td>\n",
              "      <td>0.804124</td>\n",
              "      <td>0.863636</td>\n",
              "      <td>0.750000</td>\n",
              "      <td>0.1491</td>\n",
              "      <td>Untuned XGBoost</td>\n",
              "    </tr>\n",
              "    <tr>\n",
              "      <th>10</th>\n",
              "      <td>Initial Search</td>\n",
              "      <td>0.807292</td>\n",
              "      <td>0.757282</td>\n",
              "      <td>0.866667</td>\n",
              "      <td>0.808290</td>\n",
              "      <td>0.865169</td>\n",
              "      <td>0.757282</td>\n",
              "      <td>0.1838</td>\n",
              "      <td>Untuned GradientBoostingClassifier</td>\n",
              "    </tr>\n",
              "  </tbody>\n",
              "</table>\n",
              "</div>"
            ],
            "text/plain": [
              "             ExpID  Accuracy  ...  Train Time(s)              Experiment description\n",
              "1   Initial Search  0.744792  ...         0.0139                    Untuned Logistic\n",
              "2   Initial Search  0.734375  ...         0.0073      Untuned DecisionTreeClassifier\n",
              "3   Initial Search  0.833333  ...         0.2307      Untuned RandomForestClassifier\n",
              "4   Initial Search  0.796875  ...         0.0259        Untuned KNeighborsClassifier\n",
              "5   Initial Search  0.791667  ...         0.0460           Untuned BaggingClassifier\n",
              "6   Initial Search  0.739583  ...         0.0418                         Untuned SVC\n",
              "7   Initial Search  0.718750  ...         0.0045                  Untuned NaiveBayes\n",
              "8   Initial Search  0.802083  ...         0.1256                    Untuned AdaBoost\n",
              "9   Initial Search  0.802083  ...         0.1491                     Untuned XGBoost\n",
              "10  Initial Search  0.807292  ...         0.1838  Untuned GradientBoostingClassifier\n",
              "\n",
              "[10 rows x 9 columns]"
            ]
          },
          "metadata": {}
        }
      ]
    },
    {
      "cell_type": "code",
      "metadata": {
        "colab": {
          "base_uri": "https://localhost:8080/"
        },
        "id": "lAkyoxnf9KuR",
        "outputId": "e439717a-454d-44c6-e96a-46f139b9b80d"
      },
      "source": [
        "#Check and see where within the range of 0 to 400 gives the best MSE\n",
        "model = RandomForestClassifier(random_state=0)\n",
        "\n",
        "gs = GridSearchCV(model, param_grid = {'n_estimators': range(300,320)}, cv=10, n_jobs=1,scoring='neg_mean_squared_error')\n",
        "gs.fit(X_train, y_train)\n",
        "print(gs.best_params_)\n",
        "print(\"MSE: \",-gs.best_score_)\n",
        "trees=gs.best_params_['n_estimators']"
      ],
      "execution_count": null,
      "outputs": [
        {
          "output_type": "stream",
          "name": "stdout",
          "text": [
            "{'n_estimators': 300}\n",
            "MSE:  0.17274436090225564\n"
          ]
        }
      ]
    },
    {
      "cell_type": "code",
      "metadata": {
        "colab": {
          "base_uri": "https://localhost:8080/"
        },
        "id": "TCGTtrB09t1n",
        "outputId": "8511b9b2-2597-447b-ac28-b543c2ab22a1"
      },
      "source": [
        "#Use GridSearchCV to determine other parameters given number of trees computed\n",
        "model = RandomForestClassifier(random_state=0)\n",
        "\n",
        "gscv = GridSearchCV(model,\n",
        "                  param_grid = {'n_estimators': range(trees, trees+1),\n",
        "                                'max_depth': range(1, 11),\n",
        "                                'min_samples_split': range(1, 11)}, cv=10, n_jobs=1,scoring='neg_mean_squared_error')\n",
        "gscv.fit(X_train, y_train)\n",
        "print(gscv.best_params_)\n",
        "print(\"MSE: \",-gscv.best_score_)\n",
        "estimators=gscv.best_params_['n_estimators']\n",
        "depth=gscv.best_params_['max_depth']\n",
        "split=gscv.best_params_['min_samples_split']"
      ],
      "execution_count": null,
      "outputs": [
        {
          "output_type": "stream",
          "name": "stderr",
          "text": [
            "/usr/local/lib/python3.7/dist-packages/sklearn/model_selection/_validation.py:372: FitFailedWarning: \n",
            "100 fits failed out of a total of 1000.\n",
            "The score on these train-test partitions for these parameters will be set to nan.\n",
            "If these failures are not expected, you can try to debug them by setting error_score='raise'.\n",
            "\n",
            "Below are more details about the failures:\n",
            "--------------------------------------------------------------------------------\n",
            "100 fits failed with the following error:\n",
            "Traceback (most recent call last):\n",
            "  File \"/usr/local/lib/python3.7/dist-packages/sklearn/model_selection/_validation.py\", line 681, in _fit_and_score\n",
            "    estimator.fit(X_train, y_train, **fit_params)\n",
            "  File \"/usr/local/lib/python3.7/dist-packages/sklearn/ensemble/_forest.py\", line 459, in fit\n",
            "    for i, t in enumerate(trees)\n",
            "  File \"/usr/local/lib/python3.7/dist-packages/joblib/parallel.py\", line 1043, in __call__\n",
            "    if self.dispatch_one_batch(iterator):\n",
            "  File \"/usr/local/lib/python3.7/dist-packages/joblib/parallel.py\", line 861, in dispatch_one_batch\n",
            "    self._dispatch(tasks)\n",
            "  File \"/usr/local/lib/python3.7/dist-packages/joblib/parallel.py\", line 779, in _dispatch\n",
            "    job = self._backend.apply_async(batch, callback=cb)\n",
            "  File \"/usr/local/lib/python3.7/dist-packages/joblib/_parallel_backends.py\", line 208, in apply_async\n",
            "    result = ImmediateResult(func)\n",
            "  File \"/usr/local/lib/python3.7/dist-packages/joblib/_parallel_backends.py\", line 572, in __init__\n",
            "    self.results = batch()\n",
            "  File \"/usr/local/lib/python3.7/dist-packages/joblib/parallel.py\", line 263, in __call__\n",
            "    for func, args, kwargs in self.items]\n",
            "  File \"/usr/local/lib/python3.7/dist-packages/joblib/parallel.py\", line 263, in <listcomp>\n",
            "    for func, args, kwargs in self.items]\n",
            "  File \"/usr/local/lib/python3.7/dist-packages/sklearn/utils/fixes.py\", line 211, in __call__\n",
            "    return self.function(*args, **kwargs)\n",
            "  File \"/usr/local/lib/python3.7/dist-packages/sklearn/ensemble/_forest.py\", line 185, in _parallel_build_trees\n",
            "    tree.fit(X, y, sample_weight=curr_sample_weight, check_input=False)\n",
            "  File \"/usr/local/lib/python3.7/dist-packages/sklearn/tree/_classes.py\", line 942, in fit\n",
            "    X_idx_sorted=X_idx_sorted,\n",
            "  File \"/usr/local/lib/python3.7/dist-packages/sklearn/tree/_classes.py\", line 254, in fit\n",
            "    % self.min_samples_split\n",
            "ValueError: min_samples_split must be an integer greater than 1 or a float in (0.0, 1.0]; got the integer 1\n",
            "\n",
            "  warnings.warn(some_fits_failed_message, FitFailedWarning)\n",
            "/usr/local/lib/python3.7/dist-packages/sklearn/model_selection/_search.py:972: UserWarning: One or more of the test scores are non-finite: [        nan -0.24213944 -0.24213944 -0.24213944 -0.24213944 -0.24213944\n",
            " -0.24213944 -0.24213944 -0.24213944 -0.24213944         nan -0.22245386\n",
            " -0.22245386 -0.22245386 -0.22245386 -0.22245386 -0.22245386 -0.22245386\n",
            " -0.22245386 -0.22245386         nan -0.22248804 -0.22248804 -0.22117225\n",
            " -0.22248804 -0.22117225 -0.22248804 -0.22378674 -0.22378674 -0.22378674\n",
            "         nan -0.21461039 -0.21722488 -0.21196172 -0.21068011 -0.2119959\n",
            " -0.21201299 -0.21464457 -0.21854067 -0.21854067         nan -0.21206425\n",
            " -0.21076555 -0.21206425 -0.20941558 -0.21074846 -0.20943267 -0.20943267\n",
            " -0.21071429 -0.2106972          nan -0.19759057 -0.19759057 -0.2041866\n",
            " -0.2028879  -0.19894053 -0.20023923 -0.20287081 -0.20811688 -0.20420369\n",
            "         nan -0.19629187 -0.19367738 -0.18978127 -0.19369446 -0.19236159\n",
            " -0.19760766 -0.19759057 -0.20157211 -0.20020506         nan -0.18979836\n",
            " -0.18978127 -0.19371155 -0.19897471 -0.19106288 -0.19371155 -0.19367738\n",
            " -0.19497608 -0.19892344         nan -0.18979836 -0.18848257 -0.1858339\n",
            " -0.19371155 -0.19239576 -0.19371155 -0.18979836 -0.19371155 -0.19111415\n",
            "         nan -0.18192071 -0.17928913 -0.1819378  -0.18321941 -0.18979836\n",
            " -0.19109706 -0.1897471  -0.18716678 -0.19371155]\n",
            "  category=UserWarning,\n"
          ]
        },
        {
          "output_type": "stream",
          "name": "stdout",
          "text": [
            "{'max_depth': 10, 'min_samples_split': 3, 'n_estimators': 300}\n",
            "MSE:  0.1792891319207109\n"
          ]
        }
      ]
    },
    {
      "cell_type": "code",
      "metadata": {
        "colab": {
          "base_uri": "https://localhost:8080/",
          "height": 390
        },
        "id": "dq7fRmDg-n1k",
        "outputId": "eca8190e-2b77-436a-a7c9-564d0a2cc2ec"
      },
      "source": [
        "get_results(RandomForestClassifier(random_state=0,n_estimators=304,max_depth = 9, min_samples_split= 4),\n",
        "            X_train, y_train, X_test, y_test, 'Final', 'Tuned ' + name)\n",
        "\n",
        "display(results)"
      ],
      "execution_count": null,
      "outputs": [
        {
          "output_type": "display_data",
          "data": {
            "text/html": [
              "<div>\n",
              "<style scoped>\n",
              "    .dataframe tbody tr th:only-of-type {\n",
              "        vertical-align: middle;\n",
              "    }\n",
              "\n",
              "    .dataframe tbody tr th {\n",
              "        vertical-align: top;\n",
              "    }\n",
              "\n",
              "    .dataframe thead th {\n",
              "        text-align: right;\n",
              "    }\n",
              "</style>\n",
              "<table border=\"1\" class=\"dataframe\">\n",
              "  <thead>\n",
              "    <tr style=\"text-align: right;\">\n",
              "      <th></th>\n",
              "      <th>ExpID</th>\n",
              "      <th>Accuracy</th>\n",
              "      <th>Precision</th>\n",
              "      <th>Recall</th>\n",
              "      <th>F1 score</th>\n",
              "      <th>Sensitivity</th>\n",
              "      <th>Specifity</th>\n",
              "      <th>Train Time(s)</th>\n",
              "      <th>Experiment description</th>\n",
              "    </tr>\n",
              "  </thead>\n",
              "  <tbody>\n",
              "    <tr>\n",
              "      <th>1</th>\n",
              "      <td>Initial Search</td>\n",
              "      <td>0.744792</td>\n",
              "      <td>0.720430</td>\n",
              "      <td>0.744444</td>\n",
              "      <td>0.732240</td>\n",
              "      <td>0.767677</td>\n",
              "      <td>0.720430</td>\n",
              "      <td>0.0139</td>\n",
              "      <td>Untuned Logistic</td>\n",
              "    </tr>\n",
              "    <tr>\n",
              "      <th>2</th>\n",
              "      <td>Initial Search</td>\n",
              "      <td>0.734375</td>\n",
              "      <td>0.685714</td>\n",
              "      <td>0.800000</td>\n",
              "      <td>0.738462</td>\n",
              "      <td>0.793103</td>\n",
              "      <td>0.685714</td>\n",
              "      <td>0.0073</td>\n",
              "      <td>Untuned DecisionTreeClassifier</td>\n",
              "    </tr>\n",
              "    <tr>\n",
              "      <th>3</th>\n",
              "      <td>Initial Search</td>\n",
              "      <td>0.833333</td>\n",
              "      <td>0.778846</td>\n",
              "      <td>0.900000</td>\n",
              "      <td>0.835052</td>\n",
              "      <td>0.897727</td>\n",
              "      <td>0.778846</td>\n",
              "      <td>0.2307</td>\n",
              "      <td>Untuned RandomForestClassifier</td>\n",
              "    </tr>\n",
              "    <tr>\n",
              "      <th>4</th>\n",
              "      <td>Initial Search</td>\n",
              "      <td>0.796875</td>\n",
              "      <td>0.729730</td>\n",
              "      <td>0.900000</td>\n",
              "      <td>0.805970</td>\n",
              "      <td>0.888889</td>\n",
              "      <td>0.729730</td>\n",
              "      <td>0.0259</td>\n",
              "      <td>Untuned KNeighborsClassifier</td>\n",
              "    </tr>\n",
              "    <tr>\n",
              "      <th>5</th>\n",
              "      <td>Initial Search</td>\n",
              "      <td>0.791667</td>\n",
              "      <td>0.760417</td>\n",
              "      <td>0.811111</td>\n",
              "      <td>0.784946</td>\n",
              "      <td>0.822917</td>\n",
              "      <td>0.760417</td>\n",
              "      <td>0.0460</td>\n",
              "      <td>Untuned BaggingClassifier</td>\n",
              "    </tr>\n",
              "    <tr>\n",
              "      <th>6</th>\n",
              "      <td>Initial Search</td>\n",
              "      <td>0.739583</td>\n",
              "      <td>0.717391</td>\n",
              "      <td>0.733333</td>\n",
              "      <td>0.725275</td>\n",
              "      <td>0.760000</td>\n",
              "      <td>0.717391</td>\n",
              "      <td>0.0418</td>\n",
              "      <td>Untuned SVC</td>\n",
              "    </tr>\n",
              "    <tr>\n",
              "      <th>7</th>\n",
              "      <td>Initial Search</td>\n",
              "      <td>0.718750</td>\n",
              "      <td>0.695652</td>\n",
              "      <td>0.711111</td>\n",
              "      <td>0.703297</td>\n",
              "      <td>0.740000</td>\n",
              "      <td>0.695652</td>\n",
              "      <td>0.0045</td>\n",
              "      <td>Untuned NaiveBayes</td>\n",
              "    </tr>\n",
              "    <tr>\n",
              "      <th>8</th>\n",
              "      <td>Initial Search</td>\n",
              "      <td>0.802083</td>\n",
              "      <td>0.760000</td>\n",
              "      <td>0.844444</td>\n",
              "      <td>0.800000</td>\n",
              "      <td>0.847826</td>\n",
              "      <td>0.760000</td>\n",
              "      <td>0.1256</td>\n",
              "      <td>Untuned AdaBoost</td>\n",
              "    </tr>\n",
              "    <tr>\n",
              "      <th>9</th>\n",
              "      <td>Initial Search</td>\n",
              "      <td>0.802083</td>\n",
              "      <td>0.750000</td>\n",
              "      <td>0.866667</td>\n",
              "      <td>0.804124</td>\n",
              "      <td>0.863636</td>\n",
              "      <td>0.750000</td>\n",
              "      <td>0.1491</td>\n",
              "      <td>Untuned XGBoost</td>\n",
              "    </tr>\n",
              "    <tr>\n",
              "      <th>10</th>\n",
              "      <td>Initial Search</td>\n",
              "      <td>0.807292</td>\n",
              "      <td>0.757282</td>\n",
              "      <td>0.866667</td>\n",
              "      <td>0.808290</td>\n",
              "      <td>0.865169</td>\n",
              "      <td>0.757282</td>\n",
              "      <td>0.1838</td>\n",
              "      <td>Untuned GradientBoostingClassifier</td>\n",
              "    </tr>\n",
              "    <tr>\n",
              "      <th>11</th>\n",
              "      <td>Final</td>\n",
              "      <td>0.822917</td>\n",
              "      <td>0.769231</td>\n",
              "      <td>0.888889</td>\n",
              "      <td>0.824742</td>\n",
              "      <td>0.886364</td>\n",
              "      <td>0.769231</td>\n",
              "      <td>0.6689</td>\n",
              "      <td>Tuned GradientBoostingClassifier</td>\n",
              "    </tr>\n",
              "  </tbody>\n",
              "</table>\n",
              "</div>"
            ],
            "text/plain": [
              "             ExpID  Accuracy  ...  Train Time(s)              Experiment description\n",
              "1   Initial Search  0.744792  ...         0.0139                    Untuned Logistic\n",
              "2   Initial Search  0.734375  ...         0.0073      Untuned DecisionTreeClassifier\n",
              "3   Initial Search  0.833333  ...         0.2307      Untuned RandomForestClassifier\n",
              "4   Initial Search  0.796875  ...         0.0259        Untuned KNeighborsClassifier\n",
              "5   Initial Search  0.791667  ...         0.0460           Untuned BaggingClassifier\n",
              "6   Initial Search  0.739583  ...         0.0418                         Untuned SVC\n",
              "7   Initial Search  0.718750  ...         0.0045                  Untuned NaiveBayes\n",
              "8   Initial Search  0.802083  ...         0.1256                    Untuned AdaBoost\n",
              "9   Initial Search  0.802083  ...         0.1491                     Untuned XGBoost\n",
              "10  Initial Search  0.807292  ...         0.1838  Untuned GradientBoostingClassifier\n",
              "11           Final  0.822917  ...         0.6689    Tuned GradientBoostingClassifier\n",
              "\n",
              "[11 rows x 9 columns]"
            ]
          },
          "metadata": {}
        }
      ]
    },
    {
      "cell_type": "code",
      "metadata": {
        "colab": {
          "base_uri": "https://localhost:8080/",
          "height": 204
        },
        "id": "10PJe7M8LkSK",
        "outputId": "751e9851-5aa0-4d2d-f1f3-062e675ae307"
      },
      "source": [
        "german_train = pd.read_csv(\"/train.csv\",header = 0)\n",
        "german_train.head()\n",
        "german_test = pd.read_csv(\"/test.csv\",header = 0)\n",
        "german_test.head()"
      ],
      "execution_count": null,
      "outputs": [
        {
          "output_type": "execute_result",
          "data": {
            "text/html": [
              "<div>\n",
              "<style scoped>\n",
              "    .dataframe tbody tr th:only-of-type {\n",
              "        vertical-align: middle;\n",
              "    }\n",
              "\n",
              "    .dataframe tbody tr th {\n",
              "        vertical-align: top;\n",
              "    }\n",
              "\n",
              "    .dataframe thead th {\n",
              "        text-align: right;\n",
              "    }\n",
              "</style>\n",
              "<table border=\"1\" class=\"dataframe\">\n",
              "  <thead>\n",
              "    <tr style=\"text-align: right;\">\n",
              "      <th></th>\n",
              "      <th>Pregnancies</th>\n",
              "      <th>Glucose</th>\n",
              "      <th>BloodPressure</th>\n",
              "      <th>SkinThickness</th>\n",
              "      <th>Insulin</th>\n",
              "      <th>BMI</th>\n",
              "      <th>DiabetesPedigreeFunction</th>\n",
              "      <th>Age</th>\n",
              "      <th>Outcome</th>\n",
              "      <th>Id</th>\n",
              "      <th>split</th>\n",
              "    </tr>\n",
              "  </thead>\n",
              "  <tbody>\n",
              "    <tr>\n",
              "      <th>0</th>\n",
              "      <td>0</td>\n",
              "      <td>84</td>\n",
              "      <td>82</td>\n",
              "      <td>31</td>\n",
              "      <td>125</td>\n",
              "      <td>38.2</td>\n",
              "      <td>0.233</td>\n",
              "      <td>23</td>\n",
              "      <td>0</td>\n",
              "      <td>1</td>\n",
              "      <td>2.279165</td>\n",
              "    </tr>\n",
              "    <tr>\n",
              "      <th>1</th>\n",
              "      <td>0</td>\n",
              "      <td>145</td>\n",
              "      <td>0</td>\n",
              "      <td>0</td>\n",
              "      <td>0</td>\n",
              "      <td>44.2</td>\n",
              "      <td>0.630</td>\n",
              "      <td>31</td>\n",
              "      <td>1</td>\n",
              "      <td>2</td>\n",
              "      <td>0.751868</td>\n",
              "    </tr>\n",
              "    <tr>\n",
              "      <th>2</th>\n",
              "      <td>1</td>\n",
              "      <td>139</td>\n",
              "      <td>62</td>\n",
              "      <td>41</td>\n",
              "      <td>480</td>\n",
              "      <td>40.7</td>\n",
              "      <td>0.536</td>\n",
              "      <td>21</td>\n",
              "      <td>0</td>\n",
              "      <td>4</td>\n",
              "      <td>0.928773</td>\n",
              "    </tr>\n",
              "    <tr>\n",
              "      <th>3</th>\n",
              "      <td>4</td>\n",
              "      <td>125</td>\n",
              "      <td>70</td>\n",
              "      <td>18</td>\n",
              "      <td>122</td>\n",
              "      <td>28.9</td>\n",
              "      <td>1.144</td>\n",
              "      <td>45</td>\n",
              "      <td>1</td>\n",
              "      <td>11</td>\n",
              "      <td>0.134273</td>\n",
              "    </tr>\n",
              "    <tr>\n",
              "      <th>4</th>\n",
              "      <td>2</td>\n",
              "      <td>84</td>\n",
              "      <td>50</td>\n",
              "      <td>23</td>\n",
              "      <td>76</td>\n",
              "      <td>30.4</td>\n",
              "      <td>0.968</td>\n",
              "      <td>21</td>\n",
              "      <td>0</td>\n",
              "      <td>26</td>\n",
              "      <td>1.587001</td>\n",
              "    </tr>\n",
              "  </tbody>\n",
              "</table>\n",
              "</div>"
            ],
            "text/plain": [
              "   Pregnancies  Glucose  BloodPressure  ...  Outcome  Id     split\n",
              "0            0       84             82  ...        0   1  2.279165\n",
              "1            0      145              0  ...        1   2  0.751868\n",
              "2            1      139             62  ...        0   4  0.928773\n",
              "3            4      125             70  ...        1  11  0.134273\n",
              "4            2       84             50  ...        0  26  1.587001\n",
              "\n",
              "[5 rows x 11 columns]"
            ]
          },
          "metadata": {},
          "execution_count": 24
        }
      ]
    },
    {
      "cell_type": "code",
      "metadata": {
        "id": "c5P8G9lTMbKq"
      },
      "source": [
        "german_final = pd.concat([german_train,german_test])"
      ],
      "execution_count": null,
      "outputs": []
    },
    {
      "cell_type": "code",
      "metadata": {
        "id": "fQgNo7ujMlaX"
      },
      "source": [
        "german_final = german_final.drop(['Id', 'split'], axis =1)"
      ],
      "execution_count": null,
      "outputs": []
    },
    {
      "cell_type": "code",
      "metadata": {
        "colab": {
          "base_uri": "https://localhost:8080/"
        },
        "id": "rZuVelsWNgW7",
        "outputId": "8ba82be1-b718-404c-ae82-ac9c6765317c"
      },
      "source": [
        "(german_final == 0).sum(axis=0)"
      ],
      "execution_count": null,
      "outputs": [
        {
          "output_type": "execute_result",
          "data": {
            "text/plain": [
              "Pregnancies                  301\n",
              "Glucose                       13\n",
              "BloodPressure                 90\n",
              "SkinThickness                573\n",
              "Insulin                      956\n",
              "BMI                           28\n",
              "DiabetesPedigreeFunction       0\n",
              "Age                            0\n",
              "Outcome                     1316\n",
              "dtype: int64"
            ]
          },
          "metadata": {},
          "execution_count": 27
        }
      ]
    },
    {
      "cell_type": "code",
      "metadata": {
        "colab": {
          "base_uri": "https://localhost:8080/",
          "height": 298
        },
        "id": "3CWTnxJENpMt",
        "outputId": "4c6c6f7d-8d08-4d69-beba-6d66d1c0ed84"
      },
      "source": [
        "german_final = german_final.loc[german_final.BMI != 0]\n",
        "\n",
        "german_final[\"BMI\"].plot(kind='hist', bins=12, title='RestingBP Histogram')"
      ],
      "execution_count": null,
      "outputs": [
        {
          "output_type": "execute_result",
          "data": {
            "text/plain": [
              "<matplotlib.axes._subplots.AxesSubplot at 0x7f70969806d0>"
            ]
          },
          "metadata": {},
          "execution_count": 28
        },
        {
          "output_type": "display_data",
          "data": {
            "image/png": "[encoded data removed]",
            "text/plain": [
              "<Figure size 432x288 with 1 Axes>"
            ]
          },
          "metadata": {
            "needs_background": "light"
          }
        }
      ]
    },
    {
      "cell_type": "code",
      "metadata": {
        "colab": {
          "base_uri": "https://localhost:8080/",
          "height": 298
        },
        "id": "GUfbwm_DNxS3",
        "outputId": "30c14a3e-0639-4fa7-a4e8-3b28b0a5376c"
      },
      "source": [
        "german_final = german_final.loc[german_final.BloodPressure != 0]\n",
        "\n",
        "german_final[\"BloodPressure\"].plot(kind='hist', bins=12, title='RestingBP Histogram')"
      ],
      "execution_count": null,
      "outputs": [
        {
          "output_type": "execute_result",
          "data": {
            "text/plain": [
              "<matplotlib.axes._subplots.AxesSubplot at 0x7f709698f990>"
            ]
          },
          "metadata": {},
          "execution_count": 29
        },
        {
          "output_type": "display_data",
          "data": {
            "image/png": "[encoded data removed]",
            "text/plain": [
              "<Figure size 432x288 with 1 Axes>"
            ]
          },
          "metadata": {
            "needs_background": "light"
          }
        }
      ]
    },
    {
      "cell_type": "code",
      "metadata": {
        "id": "-6J6sS9xN-FU"
      },
      "source": [
        "german_final.SkinThickness.replace(0, german_final.SkinThickness.median(), inplace=True)\n",
        "german_final.Insulin.replace(0, german_final.Insulin.median(), inplace=True)\n",
        "german_final.Glucose.replace(0, german_final.Glucose.median(), inplace=True)\n",
        "german_final.BloodPressure.replace(0, german_final.BloodPressure.median(), inplace=True)\n",
        "german_final.BMI.replace(0, german_final.BMI.median(), inplace=True)"
      ],
      "execution_count": null,
      "outputs": []
    },
    {
      "cell_type": "code",
      "metadata": {
        "id": "3pYSAqBrOWz3"
      },
      "source": [
        "X_h = german_final.iloc[:, :-1].values\n",
        "y_h = german_final.iloc[:, -1].values"
      ],
      "execution_count": null,
      "outputs": []
    },
    {
      "cell_type": "code",
      "metadata": {
        "id": "Alt75dYCOhzy"
      },
      "source": [
        "scaler = StandardScaler()\n",
        "X_ger_scaled = scaler.fit_transform(X_h)"
      ],
      "execution_count": null,
      "outputs": []
    },
    {
      "cell_type": "code",
      "metadata": {
        "colab": {
          "base_uri": "https://localhost:8080/",
          "height": 625
        },
        "id": "ArnXFkCUOy3e",
        "outputId": "dc995fe4-99da-47d8-9021-531fb59ddfb7"
      },
      "source": [
        "get_results(RandomForestClassifier(random_state=0,n_estimators=304,max_depth = 9, min_samples_split= 4),\n",
        "            X_train, y_train, X_ger_scaled, y_h, 'Final', 'Unknown test ' + name)\n",
        "\n",
        "display(results)"
      ],
      "execution_count": null,
      "outputs": [
        {
          "output_type": "display_data",
          "data": {
            "text/html": [
              "<div>\n",
              "<style scoped>\n",
              "    .dataframe tbody tr th:only-of-type {\n",
              "        vertical-align: middle;\n",
              "    }\n",
              "\n",
              "    .dataframe tbody tr th {\n",
              "        vertical-align: top;\n",
              "    }\n",
              "\n",
              "    .dataframe thead th {\n",
              "        text-align: right;\n",
              "    }\n",
              "</style>\n",
              "<table border=\"1\" class=\"dataframe\">\n",
              "  <thead>\n",
              "    <tr style=\"text-align: right;\">\n",
              "      <th></th>\n",
              "      <th>ExpID</th>\n",
              "      <th>Accuracy</th>\n",
              "      <th>Precision</th>\n",
              "      <th>Recall</th>\n",
              "      <th>F1 score</th>\n",
              "      <th>Sensitivity</th>\n",
              "      <th>Specifity</th>\n",
              "      <th>Train Time(s)</th>\n",
              "      <th>Experiment description</th>\n",
              "    </tr>\n",
              "  </thead>\n",
              "  <tbody>\n",
              "    <tr>\n",
              "      <th>1</th>\n",
              "      <td>Initial Search</td>\n",
              "      <td>0.744792</td>\n",
              "      <td>0.720430</td>\n",
              "      <td>0.744444</td>\n",
              "      <td>0.732240</td>\n",
              "      <td>0.767677</td>\n",
              "      <td>0.720430</td>\n",
              "      <td>0.0139</td>\n",
              "      <td>Untuned Logistic</td>\n",
              "    </tr>\n",
              "    <tr>\n",
              "      <th>2</th>\n",
              "      <td>Initial Search</td>\n",
              "      <td>0.734375</td>\n",
              "      <td>0.685714</td>\n",
              "      <td>0.800000</td>\n",
              "      <td>0.738462</td>\n",
              "      <td>0.793103</td>\n",
              "      <td>0.685714</td>\n",
              "      <td>0.0073</td>\n",
              "      <td>Untuned DecisionTreeClassifier</td>\n",
              "    </tr>\n",
              "    <tr>\n",
              "      <th>3</th>\n",
              "      <td>Initial Search</td>\n",
              "      <td>0.833333</td>\n",
              "      <td>0.778846</td>\n",
              "      <td>0.900000</td>\n",
              "      <td>0.835052</td>\n",
              "      <td>0.897727</td>\n",
              "      <td>0.778846</td>\n",
              "      <td>0.2307</td>\n",
              "      <td>Untuned RandomForestClassifier</td>\n",
              "    </tr>\n",
              "    <tr>\n",
              "      <th>4</th>\n",
              "      <td>Initial Search</td>\n",
              "      <td>0.796875</td>\n",
              "      <td>0.729730</td>\n",
              "      <td>0.900000</td>\n",
              "      <td>0.805970</td>\n",
              "      <td>0.888889</td>\n",
              "      <td>0.729730</td>\n",
              "      <td>0.0259</td>\n",
              "      <td>Untuned KNeighborsClassifier</td>\n",
              "    </tr>\n",
              "    <tr>\n",
              "      <th>5</th>\n",
              "      <td>Initial Search</td>\n",
              "      <td>0.791667</td>\n",
              "      <td>0.760417</td>\n",
              "      <td>0.811111</td>\n",
              "      <td>0.784946</td>\n",
              "      <td>0.822917</td>\n",
              "      <td>0.760417</td>\n",
              "      <td>0.0460</td>\n",
              "      <td>Untuned BaggingClassifier</td>\n",
              "    </tr>\n",
              "    <tr>\n",
              "      <th>6</th>\n",
              "      <td>Initial Search</td>\n",
              "      <td>0.739583</td>\n",
              "      <td>0.717391</td>\n",
              "      <td>0.733333</td>\n",
              "      <td>0.725275</td>\n",
              "      <td>0.760000</td>\n",
              "      <td>0.717391</td>\n",
              "      <td>0.0418</td>\n",
              "      <td>Untuned SVC</td>\n",
              "    </tr>\n",
              "    <tr>\n",
              "      <th>7</th>\n",
              "      <td>Initial Search</td>\n",
              "      <td>0.718750</td>\n",
              "      <td>0.695652</td>\n",
              "      <td>0.711111</td>\n",
              "      <td>0.703297</td>\n",
              "      <td>0.740000</td>\n",
              "      <td>0.695652</td>\n",
              "      <td>0.0045</td>\n",
              "      <td>Untuned NaiveBayes</td>\n",
              "    </tr>\n",
              "    <tr>\n",
              "      <th>8</th>\n",
              "      <td>Initial Search</td>\n",
              "      <td>0.802083</td>\n",
              "      <td>0.760000</td>\n",
              "      <td>0.844444</td>\n",
              "      <td>0.800000</td>\n",
              "      <td>0.847826</td>\n",
              "      <td>0.760000</td>\n",
              "      <td>0.1256</td>\n",
              "      <td>Untuned AdaBoost</td>\n",
              "    </tr>\n",
              "    <tr>\n",
              "      <th>9</th>\n",
              "      <td>Initial Search</td>\n",
              "      <td>0.802083</td>\n",
              "      <td>0.750000</td>\n",
              "      <td>0.866667</td>\n",
              "      <td>0.804124</td>\n",
              "      <td>0.863636</td>\n",
              "      <td>0.750000</td>\n",
              "      <td>0.1491</td>\n",
              "      <td>Untuned XGBoost</td>\n",
              "    </tr>\n",
              "    <tr>\n",
              "      <th>10</th>\n",
              "      <td>Initial Search</td>\n",
              "      <td>0.807292</td>\n",
              "      <td>0.757282</td>\n",
              "      <td>0.866667</td>\n",
              "      <td>0.808290</td>\n",
              "      <td>0.865169</td>\n",
              "      <td>0.757282</td>\n",
              "      <td>0.1838</td>\n",
              "      <td>Untuned GradientBoostingClassifier</td>\n",
              "    </tr>\n",
              "    <tr>\n",
              "      <th>11</th>\n",
              "      <td>Final</td>\n",
              "      <td>0.822917</td>\n",
              "      <td>0.769231</td>\n",
              "      <td>0.888889</td>\n",
              "      <td>0.824742</td>\n",
              "      <td>0.886364</td>\n",
              "      <td>0.769231</td>\n",
              "      <td>0.6689</td>\n",
              "      <td>Tuned GradientBoostingClassifier</td>\n",
              "    </tr>\n",
              "    <tr>\n",
              "      <th>12</th>\n",
              "      <td>Final</td>\n",
              "      <td>0.842188</td>\n",
              "      <td>0.700815</td>\n",
              "      <td>0.933333</td>\n",
              "      <td>0.800532</td>\n",
              "      <td>0.958733</td>\n",
              "      <td>0.700815</td>\n",
              "      <td>0.7162</td>\n",
              "      <td>Unknown test GradientBoostingClassifier</td>\n",
              "    </tr>\n",
              "  </tbody>\n",
              "</table>\n",
              "</div>"
            ],
            "text/plain": [
              "             ExpID  ...                   Experiment description\n",
              "1   Initial Search  ...                         Untuned Logistic\n",
              "2   Initial Search  ...           Untuned DecisionTreeClassifier\n",
              "3   Initial Search  ...           Untuned RandomForestClassifier\n",
              "4   Initial Search  ...             Untuned KNeighborsClassifier\n",
              "5   Initial Search  ...                Untuned BaggingClassifier\n",
              "6   Initial Search  ...                              Untuned SVC\n",
              "7   Initial Search  ...                       Untuned NaiveBayes\n",
              "8   Initial Search  ...                         Untuned AdaBoost\n",
              "9   Initial Search  ...                          Untuned XGBoost\n",
              "10  Initial Search  ...       Untuned GradientBoostingClassifier\n",
              "11           Final  ...         Tuned GradientBoostingClassifier\n",
              "12           Final  ...  Unknown test GradientBoostingClassifier\n",
              "\n",
              "[12 rows x 9 columns]"
            ]
          },
          "metadata": {}
        }
      ]
    }
  ]
}